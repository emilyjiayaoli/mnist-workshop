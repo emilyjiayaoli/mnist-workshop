{
  "nbformat": 4,
  "nbformat_minor": 0,
  "metadata": {
    "colab": {
      "provenance": [],
      "gpuType": "A100"
    },
    "kernelspec": {
      "name": "python3",
      "display_name": "Python 3"
    },
    "language_info": {
      "name": "python"
    },
    "accelerator": "GPU"
  },
  "cells": [
    {
      "cell_type": "markdown",
      "source": [
        "# Step by Step Tutorial Building and Training of a Digit Recognition Model in PyTorch"
      ],
      "metadata": {
        "id": "U1NwjpNr7ojs"
      }
    },
    {
      "cell_type": "markdown",
      "source": [
        "[Google Colab Notebook](https://colab.research.google.com/drive/1yDIdZ3eQBhNiDY0M36UlmIc6-NZ00U4u?usp=sharing)"
      ],
      "metadata": {
        "id": "zsg-bj5PT6Jk"
      }
    },
    {
      "cell_type": "markdown",
      "source": [
        "(Don't miss the Bonus below!) </br> Written by: Emily Li"
      ],
      "metadata": {
        "id": "U8Qcz4qO7fTW"
      }
    },
    {
      "cell_type": "markdown",
      "source": [
        "## Imports, Dataloading, Transformations, Configs"
      ],
      "metadata": {
        "id": "rsU0xzgv1t3B"
      }
    },
    {
      "cell_type": "code",
      "source": [
        "# Import necessary packages\n",
        "import os\n",
        "import torch\n",
        "import torch.nn as nn\n",
        "from torchvision import datasets, transforms\n",
        "\n",
        "import matplotlib.pyplot as plt\n",
        "import numpy as np"
      ],
      "metadata": {
        "id": "FKz_fGiknpFN"
      },
      "execution_count": 222,
      "outputs": []
    },
    {
      "cell_type": "code",
      "source": [
        "configs = {\n",
        "    'batch_size': 64,\n",
        "    'num_epochs': 5,\n",
        "    'learning_rate': 0.01,\n",
        "}"
      ],
      "metadata": {
        "id": "pOFJwtW60lW_"
      },
      "execution_count": 223,
      "outputs": []
    },
    {
      "cell_type": "code",
      "source": [
        "# Display Sample Image from MNIST\n",
        "\n",
        "# Download and load the training data\n",
        "trainset = datasets.MNIST('~/.pytorch/MNIST_data/', download=True, train=True)\n",
        "\n",
        "# Visualize the images\n",
        "nth_image = 23\n",
        "display(trainset[nth_image][0])"
      ],
      "metadata": {
        "colab": {
          "base_uri": "https://localhost:8080/",
          "height": 0
        },
        "id": "iRsjPTDXzaPH",
        "outputId": "6a882421-bef2-4b05-f45f-d8a0e3802424"
      },
      "execution_count": 224,
      "outputs": [
        {
          "output_type": "display_data",
          "data": {
            "text/plain": [
              "<PIL.Image.Image image mode=L size=28x28 at 0x7BB67F5BB280>"
            ],
            "image/png": "[encoded data removed]"
          },
          "metadata": {}
        }
      ]
    },
    {
      "cell_type": "code",
      "execution_count": 225,
      "metadata": {
        "id": "V6j_VKsUaHtY",
        "colab": {
          "base_uri": "https://localhost:8080/"
        },
        "outputId": "a23175ad-1c1c-46f9-bc6b-26f2e1bf5f8c"
      },
      "outputs": [
        {
          "output_type": "stream",
          "name": "stdout",
          "text": [
            "Trainset has 60000 images\n",
            "Testset has 10000 images\n"
          ]
        }
      ],
      "source": [
        "# Define a transform to normalize the data\n",
        "transform = transforms.Compose(\n",
        "    [transforms.ToTensor(),\n",
        "     transforms.Normalize((0.5,), (0.5,)),]\n",
        "    )\n",
        "# Download and load the training data\n",
        "trainset = datasets.MNIST('~/.pytorch/MNIST_data/', download=True, train=True, transform=transform)\n",
        "testset = datasets.MNIST('~/.pytorch/MNIST_data/', download=True, train=False, transform=transform)\n",
        "\n",
        "# Load the train and test data\n",
        "trainloader = torch.utils.data.DataLoader(trainset, batch_size=configs['batch_size'], shuffle=True)\n",
        "testloader = torch.utils.data.DataLoader(testset, batch_size=configs['batch_size'], shuffle=True)\n",
        "\n",
        "print(\"Trainset has {} images\".format(len(trainset)))\n",
        "print(\"Testset has {} images\".format(len(testset)))"
      ]
    },
    {
      "cell_type": "code",
      "source": [
        "# dataloader sanity check\n",
        "# (Running this cell is optional)\n",
        "for i, data in enumerate(trainloader):\n",
        "    img_inputs, targets = data\n",
        "    print(\"img_inputs.shape: {} --> (batch_size, channel, H, W)\".format(img_inputs.shape))\n",
        "    print(\"targets.shape: {} --> (batch_size,)\".format(targets.shape)) # each element contains class labels\n",
        "    break"
      ],
      "metadata": {
        "colab": {
          "base_uri": "https://localhost:8080/"
        },
        "id": "EVe8RCMhoB6a",
        "outputId": "c19f7375-b1d5-486c-a930-8e80c441a9f1"
      },
      "execution_count": 226,
      "outputs": [
        {
          "output_type": "stream",
          "name": "stdout",
          "text": [
            "img_inputs.shape: torch.Size([64, 1, 28, 28]) --> (batch_size, channel, H, W)\n",
            "targets.shape: torch.Size([64]) --> (batch_size,)\n"
          ]
        }
      ]
    },
    {
      "cell_type": "markdown",
      "source": [
        "## Designing the Model"
      ],
      "metadata": {
        "id": "BoV464dn1_TJ"
      }
    },
    {
      "cell_type": "code",
      "source": [
        "class Model(nn.Module):\n",
        "  def __init__(self, hidden_size=128, class_num=10): # called upon model initialization\n",
        "    super(Model, self).__init__()\n",
        "    self.input_size = 28 # hardcoded for the MNIST dataset. You could change if you are using convolution layers\n",
        "\n",
        "    # FEEL FREE TO CHANGE ME and experiment with various other architectures!\n",
        "    # PyTorch documentation:\n",
        "    self.layers = nn.Sequential(\n",
        "      nn.Flatten(),\n",
        "      nn.Linear(self.input_size**2, hidden_size),\n",
        "      nn.ReLU(), # Nonlinear activation function\n",
        "      nn.Linear(hidden_size, class_num), # Classification head\n",
        "      )\n",
        "\n",
        "  def forward(self, x): # called during forward pass (e.g model(input))\n",
        "    out = self.layers(x)\n",
        "    return out\n",
        "\n",
        "model = Model()\n",
        "print(model)"
      ],
      "metadata": {
        "colab": {
          "base_uri": "https://localhost:8080/"
        },
        "id": "OdEK5DTKlMWO",
        "outputId": "af91bc3e-8ec3-48df-80ed-7d28a2d664cc"
      },
      "execution_count": 227,
      "outputs": [
        {
          "output_type": "stream",
          "name": "stdout",
          "text": [
            "Model(\n",
            "  (layers): Sequential(\n",
            "    (0): Flatten(start_dim=1, end_dim=-1)\n",
            "    (1): Linear(in_features=784, out_features=128, bias=True)\n",
            "    (2): ReLU()\n",
            "    (3): Linear(in_features=128, out_features=10, bias=True)\n",
            "  )\n",
            ")\n"
          ]
        }
      ]
    },
    {
      "cell_type": "code",
      "source": [
        "# Prints out # of learnable parameters in the network\n",
        "# (Running this cell is optional)\n",
        "total_params = 0\n",
        "for name, param in model.named_parameters():\n",
        "    print('Layer: ', name, '  Params:', param.numel(), '  Size:', param.size())\n",
        "    total_params += param.numel()\n",
        "\n",
        "print(\"TOTAL PARAMETERS:\", total_params/1e6, 'M parameters')"
      ],
      "metadata": {
        "colab": {
          "base_uri": "https://localhost:8080/"
        },
        "id": "yNYw32Wc3vjb",
        "outputId": "cbd9959a-2406-42c4-d874-57695e472281"
      },
      "execution_count": 228,
      "outputs": [
        {
          "output_type": "stream",
          "name": "stdout",
          "text": [
            "Layer:  layers.1.weight   Params: 100352   Size: torch.Size([128, 784])\n",
            "Layer:  layers.1.bias   Params: 128   Size: torch.Size([128])\n",
            "Layer:  layers.3.weight   Params: 1280   Size: torch.Size([10, 128])\n",
            "Layer:  layers.3.bias   Params: 10   Size: torch.Size([10])\n",
            "TOTAL PARAMETERS: 0.10177 M parameters\n"
          ]
        }
      ]
    },
    {
      "cell_type": "markdown",
      "source": [
        "## Loss Function, Optimizer, Using GPU for training"
      ],
      "metadata": {
        "id": "g-e4u4T82BwW"
      }
    },
    {
      "cell_type": "code",
      "source": [
        "criterion = torch.nn.CrossEntropyLoss() # Loss function. This is a measure of \"how wrong\" the model is at it's predictions\n",
        "optimizer = torch.optim.SGD(model.parameters(), lr=configs['learning_rate']) # Optimizer. This tells the model how to adjust it's weights and by how much\n",
        "                                                                      #could try Adam or AdamW"
      ],
      "metadata": {
        "id": "v1RhWsrq2Bto"
      },
      "execution_count": 229,
      "outputs": []
    },
    {
      "cell_type": "code",
      "source": [
        "# Switch device to GPU if GPU is available to use parallelism to speed up training process.\n",
        "\n",
        "# If working on Google Colab, turn on GPU by going to Runtime > Change Runtime type > GPU Accelerator > A100 (if possible). Once this new runtime is setup, re-run all previous cells\n",
        "if torch.cuda.is_available():\n",
        "  device = torch.cuda.current_device()\n",
        "  print(\"GPU available: cuda:\", device)\n",
        "  model.to(device) # move model onto GPU\n",
        "  criterion.to(device) # move loss fn onto GPU\n",
        "else:\n",
        "  print(\"GPU not available. Using CPU instead\")"
      ],
      "metadata": {
        "colab": {
          "base_uri": "https://localhost:8080/"
        },
        "id": "KRgYxTtf-xVW",
        "outputId": "4be09d14-7bc8-49ac-c1ca-59c75ca9398c"
      },
      "execution_count": 230,
      "outputs": [
        {
          "output_type": "stream",
          "name": "stdout",
          "text": [
            "GPU available: cuda: 0\n"
          ]
        }
      ]
    },
    {
      "cell_type": "code",
      "source": [
        "# (Running this cell is optional)\n",
        "torch.cuda.empty_cache() # Releases unoccupied cache memory, but does not release the memory occupied by tensors or variable.\n",
        "                          # So this may help if you are experiencing memory issues"
      ],
      "metadata": {
        "id": "YMSxk0WWDALc"
      },
      "execution_count": 231,
      "outputs": []
    },
    {
      "cell_type": "markdown",
      "source": [
        "## Train Loop, Test Loop"
      ],
      "metadata": {
        "id": "MIQhMj-g27Tb"
      }
    },
    {
      "cell_type": "code",
      "source": [
        "# Train loop\n",
        "def train(model, trainloader, criterion, optimizer, num_epochs):\n",
        "  print(\"Training..\")\n",
        "\n",
        "  total_loss = [] # across epochs\n",
        "  total_loss_across_steps = []\n",
        "  running_acc = []\n",
        "  running_corrects = 0\n",
        "  total_samples = 0\n",
        "\n",
        "  for e in range(num_epochs): # loop through the # of times we want to pass training data into model\n",
        "\n",
        "    total_loss_per_epoch = 0\n",
        "    num_batches = len(trainloader)\n",
        "\n",
        "    for i, (img_inputs, targets) in enumerate(trainloader): # loop through each minibatch in the training data set\n",
        "      model.train() # enables train mode\n",
        "\n",
        "      if torch.cuda.is_available(): # move inputs and targets onto GPU\n",
        "        img_inputs = img_inputs.to(device)\n",
        "        targets = targets.to(device)\n",
        "\n",
        "      outputs = model(img_inputs) # forward pass/propagation\n",
        "\n",
        "      loss = criterion(outputs, targets) # calculate loss\n",
        "\n",
        "      optimizer.zero_grad() # clear out gradients calculation from last step\n",
        "      loss.backward() # backward pass/propagation\n",
        "      optimizer.step() # update weights\n",
        "\n",
        "      predicted_labels = torch.argmax(outputs, dim=1) # retrieve the most probable prediction, from 0 to 9\n",
        "      running_corrects += torch.sum(predicted_labels == targets).item() # compares predicted to target labels, count how many match up\n",
        "      total_samples += targets.size(0) # increment the total of samples by batch size\n",
        "      running_acc.append(running_corrects / total_samples)\n",
        "\n",
        "      total_loss_across_steps.append(loss.item())\n",
        "      total_loss_per_epoch += loss.item()\n",
        "\n",
        "    print(\"Finished epoch\", e, \"Avg loss at current epoch:\", total_loss_per_epoch / num_batches)\n",
        "    total_loss.append(total_loss_per_epoch / num_batches)\n",
        "\n",
        "  avg_loss = sum(total_loss) / len(total_loss)\n",
        "  print(\"Avg_loss:\", avg_loss)\n",
        "\n",
        "  return total_loss, total_loss_across_steps, running_acc"
      ],
      "metadata": {
        "id": "ptQjSz3i1zRf"
      },
      "execution_count": 232,
      "outputs": []
    },
    {
      "cell_type": "code",
      "source": [
        "def test(model, testloader, criterion):\n",
        "  print(\"Testing..\")\n",
        "\n",
        "  # some metrics to keep track of\n",
        "  total_loss = []\n",
        "  running_corrects = 0\n",
        "  total_samples = 0\n",
        "\n",
        "  for i, (img_inputs, targets) in enumerate(testloader): # loop through each minibatch in the training test set\n",
        "    model.eval() # enables train mode\n",
        "\n",
        "    with torch.no_grad(): # tells torch to not keep track of local gradients as no backward pass is done during testing\n",
        "      if torch.cuda.is_available():\n",
        "        img_inputs = img_inputs.to(device)\n",
        "        targets = targets.to(device)\n",
        "\n",
        "      outputs = model(img_inputs) # forward pass\n",
        "      loss = criterion(outputs, targets) # loss calculation\n",
        "\n",
        "      predicted_labels = torch.argmax(outputs, dim=1) # retrieve the most probable prediction, from 0 to 9\n",
        "\n",
        "      running_corrects += torch.sum(predicted_labels == targets).item() # compares predicted to target labels, count how many match up\n",
        "      total_samples += targets.size(0) # increment the total of samples by batch size\n",
        "\n",
        "      total_loss.append(loss.item())\n",
        "\n",
        "  overall_accuracy = running_corrects / total_samples\n",
        "  print(\"overall_accuracy\", overall_accuracy)\n",
        "  avg_loss = sum(total_loss) / len(total_loss)\n",
        "  print(\"avg_loss:\", avg_loss)\n",
        "\n",
        "  return total_loss"
      ],
      "metadata": {
        "id": "NRVXWrJdEJDf"
      },
      "execution_count": 233,
      "outputs": []
    },
    {
      "cell_type": "code",
      "source": [
        "loss_list_train, total_loss_across_steps_train, running_acc = train(model=model,\n",
        "                                                       trainloader=trainloader,\n",
        "                                                       criterion=criterion,\n",
        "                                                       optimizer=optimizer,\n",
        "                                                       num_epochs=configs['num_epochs'])"
      ],
      "metadata": {
        "colab": {
          "base_uri": "https://localhost:8080/"
        },
        "id": "XFccLbP_9uLa",
        "outputId": "a30e8fe4-ccb5-43c5-c4b8-80edd9de22b6"
      },
      "execution_count": 234,
      "outputs": [
        {
          "output_type": "stream",
          "name": "stdout",
          "text": [
            "Training..\n",
            "Finished epoch 0 Avg loss at current epoch: 0.7344762925813193\n",
            "Finished epoch 1 Avg loss at current epoch: 0.36590243492331076\n",
            "Finished epoch 2 Avg loss at current epoch: 0.3209054270056265\n",
            "Finished epoch 3 Avg loss at current epoch: 0.29566036001133766\n",
            "Finished epoch 4 Avg loss at current epoch: 0.2754242635214888\n",
            "Avg_loss: 0.3984737556086166\n"
          ]
        }
      ]
    },
    {
      "cell_type": "code",
      "source": [
        "loss_list_test = test(model=model,\n",
        "                      testloader=testloader,\n",
        "                      criterion=criterion)"
      ],
      "metadata": {
        "colab": {
          "base_uri": "https://localhost:8080/"
        },
        "id": "wQeWqtKcFK1G",
        "outputId": "c48a90d4-138b-4d94-c0f2-fe3954d13da1"
      },
      "execution_count": 235,
      "outputs": [
        {
          "output_type": "stream",
          "name": "stdout",
          "text": [
            "Testing..\n",
            "overall_accuracy 0.9235\n",
            "avg_loss: 0.26459309990238994\n"
          ]
        }
      ]
    },
    {
      "cell_type": "markdown",
      "source": [
        "## Visualization: Loss over time"
      ],
      "metadata": {
        "id": "9jEF3kiG3JtF"
      }
    },
    {
      "cell_type": "code",
      "source": [
        "def visualize(metric_list,\n",
        "              title='Loss over Time',\n",
        "              x_label='Time',\n",
        "              y_label='Loss',\n",
        "              marker='o',\n",
        "                   ):\n",
        "  plt.plot(range(len(metric_list)), metric_list)\n",
        "  plt.xlabel('Steps')\n",
        "  plt.ylabel('Loss')\n",
        "  plt.title(title)\n",
        "  plt.show()"
      ],
      "metadata": {
        "id": "ssCAJQhgG6wO"
      },
      "execution_count": 238,
      "outputs": []
    },
    {
      "cell_type": "code",
      "source": [
        "# Visualize learning metrics during training time\n",
        "visualize(loss_list_train, title='Loss vs. epochs')\n",
        "visualize(total_loss_across_steps_train, title='Loss vs. Steps')\n",
        "visualize(running_acc, title='Acc vs. Steps')"
      ],
      "metadata": {
        "colab": {
          "base_uri": "https://localhost:8080/",
          "height": 1000
        },
        "id": "Wprxzsv-YHrU",
        "outputId": "9931c053-413c-4033-9f04-836ac4493a43"
      },
      "execution_count": 239,
      "outputs": [
        {
          "output_type": "display_data",
          "data": {
            "text/plain": [
              "<Figure size 640x480 with 1 Axes>"
            ],
            "image/png": "[encoded data removed]"
          },
          "metadata": {}
        },
        {
          "output_type": "display_data",
          "data": {
            "text/plain": [
              "<Figure size 640x480 with 1 Axes>"
            ],
            "image/png": "[encoded data removed]"
          },
          "metadata": {}
        },
        {
          "output_type": "display_data",
          "data": {
            "text/plain": [
              "<Figure size 640x480 with 1 Axes>"
            ],
            "image/png": "[encoded data removed]"
          },
          "metadata": {}
        }
      ]
    },
    {
      "cell_type": "markdown",
      "source": [
        "## Inference"
      ],
      "metadata": {
        "id": "aIOKup5H38hP"
      }
    },
    {
      "cell_type": "code",
      "source": [
        "def inference(model, inputs: torch.Tensor) -> int:\n",
        "  print(\"Performing Inference..\")\n",
        "\n",
        "  if torch.cuda.is_available: # Move device onto GPU if GPU is available\n",
        "    model.to(\"cuda\")\n",
        "    inputs = inputs.to(\"cuda\")\n",
        "\n",
        "  output = model(inputs) # inference\n",
        "\n",
        "  print(\"Predicted output:\", output.data)\n",
        "  print(\"Predicted output shape:\", output.shape)\n",
        "\n",
        "  pred = torch.argmax(output, dim=1) # Retrieve prediction by taking maximum logit\n",
        "  print(\"Prediction:\", pred.item())\n",
        "\n",
        "  return pred\n"
      ],
      "metadata": {
        "id": "NFkv4xCoIiJq"
      },
      "execution_count": 240,
      "outputs": []
    },
    {
      "cell_type": "markdown",
      "source": [
        "### Inference on an example image from the trainset"
      ],
      "metadata": {
        "id": "DO68LYSg3vQy"
      }
    },
    {
      "cell_type": "code",
      "source": [
        "# Inference on an example image from the trainset\n",
        "\n",
        "nth_img = 100 # CHANGE ME\n",
        "input = trainset[nth_img][0] # Shape: (1, 28, 28)\n",
        "input_is_tensor = True\n",
        "pred = inference(model, input) # Inference on an example image from the trainset\n",
        "\n",
        "if input_is_tensor:\n",
        "  # Convert tensor to PIL image using Torchvision\n",
        "  tensor_to_pil = transforms.ToPILImage()\n",
        "  pil_image = tensor_to_pil(input)\n",
        "\n",
        "  # Display the PIL image\n",
        "  pil_image.show()\n"
      ],
      "metadata": {
        "colab": {
          "base_uri": "https://localhost:8080/",
          "height": 132
        },
        "id": "ojlehtLipDog",
        "outputId": "a76b7705-f8b6-4903-d263-1f3d82b48e63"
      },
      "execution_count": 241,
      "outputs": [
        {
          "output_type": "stream",
          "name": "stdout",
          "text": [
            "Performing Inference..\n",
            "Predicted output: tensor([[-1.1303, -1.4467,  1.3810, -1.3841, -0.0055,  4.1271,  0.7681, -3.3845,\n",
            "          1.8050,  1.3361]], device='cuda:0')\n",
            "Predicted output shape: torch.Size([1, 10])\n",
            "Prediction: 5\n"
          ]
        },
        {
          "output_type": "display_data",
          "data": {
            "text/plain": [
              "<PIL.Image.Image image mode=L size=28x28 at 0x7BB5CEAD5900>"
            ],
            "image/png": "[encoded data removed]"
          },
          "metadata": {}
        }
      ]
    },
    {
      "cell_type": "markdown",
      "source": [
        "## Save Model Checkpoint and Loading Model from Checkpoint"
      ],
      "metadata": {
        "id": "Hn2Bb5eU4Amx"
      }
    },
    {
      "cell_type": "code",
      "source": [
        "def save_model(model, save_path:str):\n",
        "  state = {\n",
        "      'model_state_dict': model.state_dict(),\n",
        "      # optimizers..\n",
        "  }\n",
        "\n",
        "  torch.save(state, save_path)\n",
        "  print(\"Successfully saved in\", save_path)"
      ],
      "metadata": {
        "id": "8dyJtv1_Tl8C"
      },
      "execution_count": 210,
      "outputs": []
    },
    {
      "cell_type": "code",
      "source": [
        "def load_model(model, checkpoint_path:str):\n",
        "  state = torch.load(checkpoint_path)\n",
        "  model.load_state_dict(state['model_state_dict'])\n",
        "  print(\"Successfully loaded in model state dict weights!\")\n",
        "  return model"
      ],
      "metadata": {
        "id": "DG7f22uN4SAl"
      },
      "execution_count": 211,
      "outputs": []
    },
    {
      "cell_type": "code",
      "source": [
        "save_model(model, 'checkpoint.pth') # Saves model weights to checkpoint.pth"
      ],
      "metadata": {
        "colab": {
          "base_uri": "https://localhost:8080/"
        },
        "id": "iPVIqw5mWyPr",
        "outputId": "092114da-b18d-4f82-86fa-c97ba37c87fc"
      },
      "execution_count": 212,
      "outputs": [
        {
          "output_type": "stream",
          "name": "stdout",
          "text": [
            "Successfully saved in checkpoint.pth\n"
          ]
        }
      ]
    },
    {
      "cell_type": "code",
      "source": [
        "# If you would like to download a sample trained checkpoint for the default model,\n",
        "                                                  #uncomment and run the following\n",
        "\n",
        "#!wget --no-check-certificate 'https://docs.google.com/uc?export=download&id=1uSAz22XAbLwU__I6fQaiR4i-4p8RLYBA' -O checkpoint.pth"
      ],
      "metadata": {
        "colab": {
          "base_uri": "https://localhost:8080/"
        },
        "id": "eZ4SYt_8DR4W",
        "outputId": "3714ae60-5dc5-4392-a6ce-d079214cce79"
      },
      "execution_count": 219,
      "outputs": [
        {
          "output_type": "stream",
          "name": "stdout",
          "text": [
            "--2023-07-16 23:35:43--  https://docs.google.com/uc?export=download&id=1uSAz22XAbLwU__I6fQaiR4i-4p8RLYBA\n",
            "Resolving docs.google.com (docs.google.com)... 74.125.200.113, 74.125.200.139, 74.125.200.138, ...\n",
            "Connecting to docs.google.com (docs.google.com)|74.125.200.113|:443... connected.\n",
            "HTTP request sent, awaiting response... 303 See Other\n",
            "Location: https://doc-00-54-docs.googleusercontent.com/docs/securesc/ha0ro937gcuc7l7deffksulhg5h7mbp1/dgt5fivc57le6p6r54281cp85euqeoi7/1689550500000/00998986141174652771/*/1uSAz22XAbLwU__I6fQaiR4i-4p8RLYBA?e=download&uuid=49cee8f8-ae7f-49fd-a2bb-2b97e5512418 [following]\n",
            "Warning: wildcards not supported in HTTP.\n",
            "--2023-07-16 23:35:44--  https://doc-00-54-docs.googleusercontent.com/docs/securesc/ha0ro937gcuc7l7deffksulhg5h7mbp1/dgt5fivc57le6p6r54281cp85euqeoi7/1689550500000/00998986141174652771/*/1uSAz22XAbLwU__I6fQaiR4i-4p8RLYBA?e=download&uuid=49cee8f8-ae7f-49fd-a2bb-2b97e5512418\n",
            "Resolving doc-00-54-docs.googleusercontent.com (doc-00-54-docs.googleusercontent.com)... 74.125.130.132, 2404:6800:4003:c01::84\n",
            "Connecting to doc-00-54-docs.googleusercontent.com (doc-00-54-docs.googleusercontent.com)|74.125.130.132|:443... connected.\n",
            "HTTP request sent, awaiting response... 200 OK\n",
            "Length: 408817 (399K) [application/x-zip]\n",
            "Saving to: ‘checkpoint.pth’\n",
            "\n",
            "checkpoint.pth      100%[===================>] 399.24K  --.-KB/s    in 0.003s  \n",
            "\n",
            "2023-07-16 23:35:44 (148 MB/s) - ‘checkpoint.pth’ saved [408817/408817]\n",
            "\n"
          ]
        }
      ]
    },
    {
      "cell_type": "code",
      "source": [
        "# model = Model() # Make sure that the model has been defined and is the same model architecture as the model that was saved to the checkpoint!\n",
        "\n",
        "load_model(model, checkpoint_path=\"checkpoint.pth\") # Loads model weights from checkpoint.pth"
      ],
      "metadata": {
        "colab": {
          "base_uri": "https://localhost:8080/"
        },
        "id": "e1_3e1yVWzLz",
        "outputId": "c0cdc23b-c080-4000-c81c-c504cf2163b1"
      },
      "execution_count": 218,
      "outputs": [
        {
          "output_type": "stream",
          "name": "stdout",
          "text": [
            "Successfully loaded in model state dict weights!\n"
          ]
        },
        {
          "output_type": "execute_result",
          "data": {
            "text/plain": [
              "Model(\n",
              "  (layers): Sequential(\n",
              "    (0): Flatten(start_dim=1, end_dim=-1)\n",
              "    (1): Linear(in_features=784, out_features=128, bias=True)\n",
              "    (2): ReLU()\n",
              "    (3): Linear(in_features=128, out_features=10, bias=True)\n",
              "  )\n",
              ")"
            ]
          },
          "metadata": {},
          "execution_count": 218
        }
      ]
    },
    {
      "cell_type": "markdown",
      "source": [
        "## Bonus: Inference on your own digit drawings"
      ],
      "metadata": {
        "id": "aTCJcdJ94oQM"
      }
    },
    {
      "cell_type": "markdown",
      "source": [
        "Below is a script that provides an interactive interface for a user to draw an image within a JavaScript canvas element and perform inference on the user drawn input using the model that we just trained!"
      ],
      "metadata": {
        "id": "REtcDyAB8Roa"
      }
    },
    {
      "cell_type": "code",
      "source": [
        "def load_process_img(path):\n",
        "  print(\"Loading and processing input..\")\n",
        "  img = Image.open(path)\n",
        "\n",
        "  print(\"Original img:\")\n",
        "  img.show() #\n",
        "  img_resized = img.resize((28, 28)) # resize into 28x28\n",
        "\n",
        "  transform = transforms.Compose(\n",
        "      [transforms.ToTensor(),\n",
        "      transforms.Normalize((0.5,), (0.5,)),]\n",
        "      )\n",
        "\n",
        "  input = transform(img_resized)[3].unsqueeze(0) # Shape: 1, 28, 28\n",
        "\n",
        "  pil_input = transforms.ToPILImage()(input) # purely for visualization\n",
        "\n",
        "  print(\"Input img:\")\n",
        "  pil_input.show()\n",
        "\n",
        "  print(\"Successfully loaded and processed image from\", path)\n",
        "  return input"
      ],
      "metadata": {
        "id": "4SGF5JWCmixH"
      },
      "execution_count": 220,
      "outputs": []
    },
    {
      "cell_type": "code",
      "source": [
        "# Import the necessary modules\n",
        "import IPython\n",
        "from google.colab import output\n",
        "from IPython.display import display, Javascript\n",
        "from PIL import Image\n",
        "import io\n",
        "import cv2\n",
        "import numpy as np\n",
        "import base64\n",
        "# JavaScript code that creates a simple canvas, allows the user to draw on it, and returns the drawing as a base64 PNG image\n",
        "draw_js = '''\n",
        "canvas = document.createElement('canvas');\n",
        "canvas.width = 200;\n",
        "canvas.height = 200;\n",
        "ctx = canvas.getContext('2d');\n",
        "ctx.lineWidth = 10;\n",
        "var button = document.createElement('button');\n",
        "button.textContent = 'Done';\n",
        "var cancelButton = document.createElement('button');\n",
        "cancelButton.textContent = 'Cancel';\n",
        "\n",
        "var mouse = {x: 0, y: 0};\n",
        "\n",
        "canvas.onmousemove = function(e){\n",
        "  mouse.x = e.pageX - this.offsetLeft;\n",
        "  mouse.y = e.pageY - this.offsetTop;\n",
        "}\n",
        "\n",
        "canvas.onmousedown = function(e){\n",
        "  ctx.beginPath();\n",
        "  ctx.moveTo(mouse.x, mouse.y);\n",
        "  canvas.addEventListener('mousemove', onPaint, false);\n",
        "}\n",
        "\n",
        "canvas.onmouseup = function(e){\n",
        "  canvas.removeEventListener('mousemove', onPaint, false);\n",
        "}\n",
        "\n",
        "var onPaint = function() {\n",
        "    ctx.lineTo(mouse.x, mouse.y);\n",
        "    ctx.stroke();\n",
        "};\n",
        "\n",
        "var data = new Promise((resolve, reject) => {\n",
        "  button.onclick = () => {\n",
        "    resolve(canvas.toDataURL('image/png'));\n",
        "  }\n",
        "  cancelButton.onclick = () => {\n",
        "    ctx.clearRect(0, 0, canvas.width, canvas.height); // clear the canvas\n",
        "    reject('Drawing cancelled');\n",
        "  }\n",
        "});\n",
        "\n",
        "document.body.appendChild(canvas);\n",
        "document.body.appendChild(button);\n",
        "document.body.appendChild(cancelButton);\n",
        "\n",
        "data\n",
        "'''\n",
        "\n",
        "def draw():\n",
        "  display(Javascript(draw_js))\n",
        "  try:\n",
        "    data = output.eval_js('data')\n",
        "    header, data = data.split(',')\n",
        "    binary = base64.b64decode(data)\n",
        "    with open('image.png', 'wb') as f:\n",
        "      f.write(binary)\n",
        "    return 'image.png'\n",
        "  except Exception as e:\n",
        "    print(str(e))\n",
        "    return None\n",
        "\n",
        "filename = draw()\n",
        "if filename is not None:\n",
        "    display(Image.open(filename))\n",
        "\n",
        "\n",
        "input = load_process_img(path='image.png') # processes image at 'image.png' and prepares it for inference\n",
        "pred = inference(model, input) # performs inference on image drawn\n"
      ],
      "metadata": {
        "colab": {
          "base_uri": "https://localhost:8080/",
          "height": 807
        },
        "id": "FqiTWgbWlOHS",
        "outputId": "1d7894fd-3e4b-4455-9c9e-f6f3abf4e64d"
      },
      "execution_count": 221,
      "outputs": [
        {
          "output_type": "display_data",
          "data": {
            "text/plain": [
              "<IPython.core.display.Javascript object>"
            ],
            "application/javascript": [
              "\n",
              "canvas = document.createElement('canvas');\n",
              "canvas.width = 200;\n",
              "canvas.height = 200;\n",
              "ctx = canvas.getContext('2d');\n",
              "ctx.lineWidth = 10;\n",
              "var button = document.createElement('button');\n",
              "button.textContent = 'Done';\n",
              "var cancelButton = document.createElement('button');\n",
              "cancelButton.textContent = 'Cancel';\n",
              "\n",
              "var mouse = {x: 0, y: 0};\n",
              "\n",
              "canvas.onmousemove = function(e){\n",
              "  mouse.x = e.pageX - this.offsetLeft;\n",
              "  mouse.y = e.pageY - this.offsetTop;\n",
              "}\n",
              "\n",
              "canvas.onmousedown = function(e){\n",
              "  ctx.beginPath();\n",
              "  ctx.moveTo(mouse.x, mouse.y);\n",
              "  canvas.addEventListener('mousemove', onPaint, false);\n",
              "}\n",
              "\n",
              "canvas.onmouseup = function(e){\n",
              "  canvas.removeEventListener('mousemove', onPaint, false);\n",
              "}\n",
              "\n",
              "var onPaint = function() {\n",
              "    ctx.lineTo(mouse.x, mouse.y);\n",
              "    ctx.stroke();\n",
              "};\n",
              "\n",
              "var data = new Promise((resolve, reject) => {\n",
              "  button.onclick = () => {\n",
              "    resolve(canvas.toDataURL('image/png'));\n",
              "  }\n",
              "  cancelButton.onclick = () => {\n",
              "    ctx.clearRect(0, 0, canvas.width, canvas.height); // clear the canvas\n",
              "    reject('Drawing cancelled');\n",
              "  }\n",
              "});\n",
              "\n",
              "document.body.appendChild(canvas);\n",
              "document.body.appendChild(button);\n",
              "document.body.appendChild(cancelButton);\n",
              "\n",
              "data\n"
            ]
          },
          "metadata": {}
        },
        {
          "output_type": "display_data",
          "data": {
            "text/plain": [
              "<PIL.PngImagePlugin.PngImageFile image mode=RGBA size=200x200 at 0x7BB5CEC58CA0>"
            ],
            "image/png": "[encoded data removed]"
          },
          "metadata": {}
        },
        {
          "output_type": "stream",
          "name": "stdout",
          "text": [
            "Loading and processing input..\n",
            "Original img:\n"
          ]
        },
        {
          "output_type": "display_data",
          "data": {
            "text/plain": [
              "<PIL.PngImagePlugin.PngImageFile image mode=RGBA size=200x200 at 0x7BB5CEBC3C40>"
            ],
            "image/png": "[encoded data removed]"
          },
          "metadata": {}
        },
        {
          "output_type": "stream",
          "name": "stdout",
          "text": [
            "Input img:\n"
          ]
        },
        {
          "output_type": "display_data",
          "data": {
            "text/plain": [
              "<PIL.Image.Image image mode=L size=28x28 at 0x7BB5CEBC3D30>"
            ],
            "image/png": "[encoded data removed]"
          },
          "metadata": {}
        },
        {
          "output_type": "stream",
          "name": "stdout",
          "text": [
            "Successfully loaded and processed image from image.png\n",
            "Performing Inference..\n",
            "Predicted output: tensor([[ 0.6371, -2.6640, -4.7827,  1.8084, -2.1195,  3.7867, -1.8896,  1.6636,\n",
            "          0.2433,  2.9192]], device='cuda:0')\n",
            "Predicted output shape: torch.Size([1, 10])\n",
            "Prediction: 5\n"
          ]
        }
      ]
    },
    {
      "cell_type": "markdown",
      "source": [
        "## Advanced Exercises & Topics to Research"
      ],
      "metadata": {
        "id": "C4XJkrYN8I9X"
      }
    },
    {
      "cell_type": "markdown",
      "source": [
        "- How low of a training loss and high of a validation accuracy can you achieve with various types of networks and layers (e.g convolutional layers)?\n",
        "- What are the shapes of the weights/learnable parameters of each layer and what layers have more parameters? Is it reasonable\n",
        "- Since the MNIST has already been prepared by PyTorch for us to load, how could we build custom dataloader for our custom dataset?\n",
        "- The optimizer we used is vanilla Stocastic Gradient Descent (SGD), and there are more modern optimizers out there (e.g Adam, AdamW, Sophia), what do they do differently?\n",
        "- NMIST is a relatively easy dataset to achieve high accuracy on. Try training a model for a task that is harder to understand concepts such as overfitting, underfitting, etc..."
      ],
      "metadata": {
        "id": "PHzZobSa8ONj"
      }
    }
  ]
}